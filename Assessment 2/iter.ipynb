{
 "cells": [
  {
   "cell_type": "code",
   "execution_count": 1,
   "metadata": {},
   "outputs": [],
   "source": [
    "import pandas as pd\n",
    "import matplotlib.pyplot as plt\n",
    "import os"
   ]
  },
  {
   "cell_type": "code",
   "execution_count": 4,
   "metadata": {},
   "outputs": [],
   "source": [
    "PATH = '/Users/test/Library/CloudStorage/OneDrive-UniversityofKent/MAST4016 Data Science Practice/Assessment 2'"
   ]
  },
  {
   "cell_type": "code",
   "execution_count": 5,
   "metadata": {},
   "outputs": [
    {
     "data": {
      "text/plain": [
       "['02-26-2020.csv',\n",
       " '02-27-2020.csv',\n",
       " '02-18-2020.csv',\n",
       " '02-19-2020.csv',\n",
       " 'totals.ipynb',\n",
       " '02-12-2020.csv',\n",
       " '02-13-2020.csv',\n",
       " '.DS_Store',\n",
       " '02-05-2020.csv',\n",
       " '02-04-2020.csv',\n",
       " '02-08-2020.csv',\n",
       " '02-09-2020.csv',\n",
       " '03-01-2020.csv',\n",
       " '02-02-2020.csv',\n",
       " '02-03-2020.csv',\n",
       " '01-31-2020.csv',\n",
       " '01-30-2020.csv',\n",
       " '02-21-2020.csv',\n",
       " '02-20-2020.csv',\n",
       " '02-15-2020.csv',\n",
       " '02-14-2020.csv',\n",
       " '01-26-2020.csv',\n",
       " '01-27-2020.csv',\n",
       " '02-06-2020.csv',\n",
       " '02-07-2020.csv',\n",
       " '01-22-2020.csv',\n",
       " '01-23-2020.csv',\n",
       " '02-11-2020.csv',\n",
       " '02-10-2020.csv',\n",
       " '02-25-2020.csv',\n",
       " '02-24-2020.csv',\n",
       " '01-28-2020.csv',\n",
       " '01-29-2020.csv',\n",
       " 'iter.ipynb',\n",
       " '02-28-2020.csv',\n",
       " '02-29-2020.csv',\n",
       " '01-25-2020.csv',\n",
       " '01-24-2020.csv',\n",
       " '02-16-2020.csv',\n",
       " '02-17-2020.csv',\n",
       " '02-22-2020.csv',\n",
       " '02-23-2020.csv',\n",
       " 'test.ipynb',\n",
       " '02-01-2020.csv',\n",
       " 'jan.ipynb']"
      ]
     },
     "execution_count": 5,
     "metadata": {},
     "output_type": "execute_result"
    }
   ],
   "source": [
    "filenames = os.listdir(PATH)\n",
    "filenames"
   ]
  },
  {
   "cell_type": "code",
   "execution_count": 6,
   "metadata": {},
   "outputs": [
    {
     "data": {
      "text/plain": [
       "['02-26-2020.csv',\n",
       " '02-27-2020.csv',\n",
       " '02-18-2020.csv',\n",
       " '02-19-2020.csv',\n",
       " '02-12-2020.csv',\n",
       " '02-13-2020.csv',\n",
       " '02-05-2020.csv',\n",
       " '02-04-2020.csv',\n",
       " '02-08-2020.csv',\n",
       " '02-09-2020.csv',\n",
       " '03-01-2020.csv',\n",
       " '02-02-2020.csv',\n",
       " '02-03-2020.csv',\n",
       " '01-31-2020.csv',\n",
       " '01-30-2020.csv',\n",
       " '02-21-2020.csv',\n",
       " '02-20-2020.csv',\n",
       " '02-15-2020.csv',\n",
       " '02-14-2020.csv',\n",
       " '01-26-2020.csv',\n",
       " '01-27-2020.csv',\n",
       " '02-06-2020.csv',\n",
       " '02-07-2020.csv',\n",
       " '01-22-2020.csv',\n",
       " '01-23-2020.csv',\n",
       " '02-11-2020.csv',\n",
       " '02-10-2020.csv',\n",
       " '02-25-2020.csv',\n",
       " '02-24-2020.csv',\n",
       " '01-28-2020.csv',\n",
       " '01-29-2020.csv',\n",
       " '02-28-2020.csv',\n",
       " '02-29-2020.csv',\n",
       " '01-25-2020.csv',\n",
       " '01-24-2020.csv',\n",
       " '02-16-2020.csv',\n",
       " '02-17-2020.csv',\n",
       " '02-22-2020.csv',\n",
       " '02-23-2020.csv',\n",
       " '02-01-2020.csv']"
      ]
     },
     "execution_count": 6,
     "metadata": {},
     "output_type": "execute_result"
    }
   ],
   "source": [
    "filenames = [file for file in filenames if '.csv' in file]\n",
    "filenames"
   ]
  },
  {
   "cell_type": "code",
   "execution_count": 17,
   "metadata": {},
   "outputs": [],
   "source": [
    "li = []\n",
    "for file in filenames:\n",
    "    df = pd.read_csv(file)\n",
    "    result = df[df[\"Country/Region\"] == 'Mainland China']\n",
    "    result\n",
    "    total_confirmed = result['Confirmed'].sum() \n",
    "    li.append(total_confirmed)"
   ]
  },
  {
   "cell_type": "code",
   "execution_count": 21,
   "metadata": {},
   "outputs": [
    {
     "data": {
      "text/plain": [
       "[547.0,\n",
       " 916.0,\n",
       " 1082.0,\n",
       " 1399.0,\n",
       " 2062.0,\n",
       " 2863.0,\n",
       " 5494.0,\n",
       " 6070.0,\n",
       " 8124.0,\n",
       " 9783.0,\n",
       " 11871,\n",
       " 16607,\n",
       " 19693,\n",
       " 23680,\n",
       " 27409,\n",
       " 30553,\n",
       " 34075,\n",
       " 36778,\n",
       " 39790,\n",
       " 42306,\n",
       " 44327,\n",
       " 44699,\n",
       " 59832,\n",
       " 66292,\n",
       " 68347,\n",
       " 70446,\n",
       " 72364,\n",
       " 74139,\n",
       " 74546,\n",
       " 74999,\n",
       " 75472,\n",
       " 76922,\n",
       " 76938,\n",
       " 77152,\n",
       " 77660,\n",
       " 78065,\n",
       " 78498,\n",
       " 78824,\n",
       " 79251,\n",
       " 79826]"
      ]
     },
     "execution_count": 21,
     "metadata": {},
     "output_type": "execute_result"
    }
   ],
   "source": [
    "li"
   ]
  },
  {
   "cell_type": "code",
   "execution_count": 22,
   "metadata": {},
   "outputs": [],
   "source": [
    "sorted = li.sort()"
   ]
  },
  {
   "cell_type": "code",
   "execution_count": 23,
   "metadata": {},
   "outputs": [
    {
     "data": {
      "text/plain": [
       "[547.0,\n",
       " 916.0,\n",
       " 1082.0,\n",
       " 1399.0,\n",
       " 2062.0,\n",
       " 2863.0,\n",
       " 5494.0,\n",
       " 6070.0,\n",
       " 8124.0,\n",
       " 9783.0,\n",
       " 11871,\n",
       " 16607,\n",
       " 19693,\n",
       " 23680,\n",
       " 27409,\n",
       " 30553,\n",
       " 34075,\n",
       " 36778,\n",
       " 39790,\n",
       " 42306,\n",
       " 44327,\n",
       " 44699,\n",
       " 59832,\n",
       " 66292,\n",
       " 68347,\n",
       " 70446,\n",
       " 72364,\n",
       " 74139,\n",
       " 74546,\n",
       " 74999,\n",
       " 75472,\n",
       " 76922,\n",
       " 76938,\n",
       " 77152,\n",
       " 77660,\n",
       " 78065,\n",
       " 78498,\n",
       " 78824,\n",
       " 79251,\n",
       " 79826]"
      ]
     },
     "execution_count": 23,
     "metadata": {},
     "output_type": "execute_result"
    }
   ],
   "source": [
    "li"
   ]
  },
  {
   "cell_type": "code",
   "execution_count": 24,
   "metadata": {},
   "outputs": [
    {
     "data": {
      "text/plain": [
       "[<matplotlib.lines.Line2D at 0x13fc30250>]"
      ]
     },
     "execution_count": 24,
     "metadata": {},
     "output_type": "execute_result"
    },
    {
     "data": {
      "image/png": "[encoded data removed]",
      "text/plain": [
       "<Figure size 640x480 with 1 Axes>"
      ]
     },
     "metadata": {},
     "output_type": "display_data"
    }
   ],
   "source": [
    "plt.plot(li)"
   ]
  },
  {
   "cell_type": "code",
   "execution_count": null,
   "metadata": {},
   "outputs": [],
   "source": []
  }
 ],
 "metadata": {
  "kernelspec": {
   "display_name": "base",
   "language": "python",
   "name": "python3"
  },
  "language_info": {
   "codemirror_mode": {
    "name": "ipython",
    "version": 3
   },
   "file_extension": ".py",
   "mimetype": "text/x-python",
   "name": "python",
   "nbconvert_exporter": "python",
   "pygments_lexer": "ipython3",
   "version": "3.11.5"
  }
 },
 "nbformat": 4,
 "nbformat_minor": 2
}
