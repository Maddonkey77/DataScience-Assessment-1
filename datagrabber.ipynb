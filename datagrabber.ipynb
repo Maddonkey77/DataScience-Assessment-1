{
 "cells": [
  {
   "cell_type": "code",
   "execution_count": 1,
   "id": "701eedf3-a031-488b-ac83-dde12c31d469",
   "metadata": {
    "tags": []
   },
   "outputs": [],
   "source": [
    "import pandas as pd\n",
    "import numpy as np\n",
    "import seaborn as sns\n",
    "import matplotlib.pyplot as plt"
   ]
  },
  {
   "cell_type": "code",
   "execution_count": 60,
   "id": "8280f108-0f84-4420-840f-04cc28cb4763",
   "metadata": {
    "tags": []
   },
   "outputs": [
    {
     "name": "stdout",
     "output_type": "stream",
     "text": [
      "Confirmed:  102362900\n",
      "Deaths:  1108688\n",
      "Recovered:  0.0\n"
     ]
    }
   ],
   "source": [
    "df = pd.read_csv(\"01-31-2023.csv\")\n",
    "df.head()\n",
    "result = df[df[\"Country_Region\"] == 'US']\n",
    "result\n",
    "total_confirmed=result['Confirmed'].sum()\n",
    "total_deaths = result['Deaths'].sum()\n",
    "total_recovered = result['Recovered'].sum()\n",
    "print('Confirmed: ',total_confirmed)\n",
    "print('Deaths: ', total_deaths)\n",
    "print('Recovered: ',total_recovered)\n",
    "\n",
    "            "
   ]
  },
  {
   "cell_type": "code",
   "execution_count": null,
   "id": "fcc0c3aa-6e5d-4c61-a48d-45224087d063",
   "metadata": {},
   "outputs": [],
   "source": []
  }
 ],
 "metadata": {
  "kernelspec": {
   "display_name": "Python 3 (ipykernel)",
   "language": "python",
   "name": "python3"
  },
  "language_info": {
   "codemirror_mode": {
    "name": "ipython",
    "version": 3
   },
   "file_extension": ".py",
   "mimetype": "text/x-python",
   "name": "python",
   "nbconvert_exporter": "python",
   "pygments_lexer": "ipython3",
   "version": "3.11.5"
  }
 },
 "nbformat": 4,
 "nbformat_minor": 5
}
